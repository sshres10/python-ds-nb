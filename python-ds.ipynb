{
 "cells": [
  {
   "cell_type": "markdown",
   "metadata": {},
   "source": [
    "# Web Mining and Applied NLP (44-620)\n",
    "\n",
    "## Python Notebooks, Basics, and Data Structures\n",
    "\n",
    "### Student Name: Sushanta Shrestha\n",
    "Perform the tasks described in the Markdown cells below.  When you have completed the assignment make sure your code cells have all been run (and have output beneath them) and ensure you have committed and pushed ALL of your changes to your assignment repository.\n",
    "\n",
    "Every question that requires you to write code will have a code cell underneath it; you may either write your entire solution in that cell or write it in a python file (`.py`), then import and run the appropriate code to answer the question.\n",
    "\n",
    "Do not use external modules (`math`, etc) for this assignment unless you are explicitly instructed to, though you may use built in python functions (`min`, `max`, etc) as you wish."
   ]
  },
  {
   "cell_type": "markdown",
   "metadata": {},
   "source": [
    "1. Modify the Markdown cell above to put your name after \"Student Name:\"; you will be expected to do this in all assignments presented in this format for this class."
   ]
  },
  {
   "cell_type": "markdown",
   "metadata": {},
   "source": [
    "2. Write code that divides any two numbers, stores the result in a variable, and prints the result with an appropriate label."
   ]
  },
  {
   "cell_type": "code",
   "execution_count": 2,
   "metadata": {},
   "outputs": [
    {
     "name": "stdout",
     "output_type": "stream",
     "text": [
      "The result of dividing 10 by 2 is: 5.0\n"
     ]
    }
   ],
   "source": [
    "# Define the two numbers\n",
    "num1 = 10\n",
    "num2 = 2\n",
    "\n",
    "# Perform division and store the result\n",
    "result = num1 / num2\n",
    "\n",
    "# Print the result with an appropriate label\n",
    "print(\"The result of dividing\", num1, \"by\", num2, \"is:\", result)\n"
   ]
  },
  {
   "cell_type": "markdown",
   "metadata": {},
   "source": [
    "3. Using loops (and potentially conditionals), write Python code that prints the factorial of each integer from 1 through 10 (which you can store in a variable if you want). The factorial of an integer is the product of all of the integers of 1 through the number. Print the result with an appropriate label."
   ]
  },
  {
   "cell_type": "code",
   "execution_count": 2,
   "metadata": {},
   "outputs": [
    {
     "name": "stdout",
     "output_type": "stream",
     "text": [
      "Factorial of 1: 1\n",
      "Factorial of 2: 2\n",
      "Factorial of 3: 6\n",
      "Factorial of 4: 24\n",
      "Factorial of 5: 120\n",
      "Factorial of 6: 720\n",
      "Factorial of 7: 5040\n",
      "Factorial of 8: 40320\n",
      "Factorial of 9: 362880\n",
      "Factorial of 10: 3628800\n"
     ]
    }
   ],
   "source": [
    "# Task 3\n",
    "def factorial(n):\n",
    "    result = 1\n",
    "    for i in range(1, n + 1):\n",
    "        result = result * i\n",
    "    return result\n",
    "\n",
    "# Calculate and print factorials from 1 to 10\n",
    "for i in range(1, 11):\n",
    "    print(f\"Factorial of {i}: {factorial(i)}\")\n"
   ]
  },
  {
   "cell_type": "markdown",
   "metadata": {},
   "source": [
    "4. Write a python function that takes a single parameter and calculates and returns the average (mean) of the values in the parameter (which you may assume is iterable).  Show that your function works by printing the result of calling the function on the list in the cell below."
   ]
  },
  {
   "cell_type": "code",
   "execution_count": 22,
   "metadata": {},
   "outputs": [
    {
     "name": "stdout",
     "output_type": "stream",
     "text": [
      "Mean of testlist: 0.0\n"
     ]
    }
   ],
   "source": [
    "testlist = [1,-1,2,-2,3,-3,4,-4]\n",
    "\n",
    "# Define the function to calculate the mean\n",
    "def calculate_mean(numbers):\n",
    "    total = sum(numbers)  # Sum up all the elements in the list\n",
    "    count = len(numbers)  # Count the number of elements in the list\n",
    "    mean = total / count  # Calculate the mean by dividing the sum by the count\n",
    "    return mean\n",
    "\n",
    "# Given list\n",
    "testlist = [1, -1, 2, -2, 3, -3, 4, -4]\n",
    "\n",
    "# Call the function and print the result\n",
    "mean_of_testlist = calculate_mean(testlist)\n",
    "print(\"Mean of testlist:\", mean_of_testlist)\n",
    "\n",
    "\n"
   ]
  },
  {
   "cell_type": "markdown",
   "metadata": {},
   "source": [
    "5. Using your mean function above, write a function that calculates the variance of the list of numbers (see https://en.wikipedia.org/wiki/Variance for more information on the formula). In short:\n",
    "* subtract the mean of the elements in the list from every element in the list; store these values in a new list\n",
    "* square every element in the new list and sum the elements together\n",
    "* divide the resulting number by N (where N is the length of the original list)\n",
    "\n",
    "Show the result of calling your function in the lists in the code cell. You must use one or more list comprehensions or map/filter in your code.\n"
   ]
  },
  {
   "cell_type": "code",
   "execution_count": 25,
   "metadata": {},
   "outputs": [
    {
     "name": "stdout",
     "output_type": "stream",
     "text": [
      "Variance of list1: 1.13973309\n",
      "Variance of list2: 1.0085378977777777\n"
     ]
    }
   ],
   "source": [
    "list1 = [ 5.670e-1, -1.480e+0, -5.570e-1, -1.470e+0, 7.340e-1, 1.050e+0, 4.480e-1, 2.570e-1, -1.970e+0, -1.460e+0]\n",
    "list2 = [-1.780e+0, 2.640e-1, 1.160e+0, 9.080e-1, 1.780e+0, 1.080e+0, 1.050e+0, -4.630e-2, 1.520e+0, 5.350e-1]\n",
    "# the variances of both lists should be relatively close to 1 (off by less than .15)\n",
    "\n",
    "# Mean function from the previous step\n",
    "def calculate_mean(numbers):\n",
    "    return sum(numbers) / len(numbers)\n",
    "\n",
    "# Variance function\n",
    "def calculate_variance(numbers):\n",
    "    mean_value = calculate_mean(numbers)  # Calculate the mean\n",
    "    # Subtract mean from each element, square the result, and store in a list\n",
    "    squared_diffs = [(x - mean_value) ** 2 for x in numbers]\n",
    "    # Sum the squared differences and divide by the number of elements\n",
    "    variance = sum(squared_diffs) / len(numbers)\n",
    "    return variance\n",
    "\n",
    "# Given lists\n",
    "list1 = [5.67e-1, -1.48e+0, -5.57e-1, -1.47e+0, 7.34e-1, 1.05e+0, 4.48e-1, 2.57e-1, -1.97e+0, -1.46e+0]\n",
    "list2 = [-1.78e+0, 2.64e-1, 1.16e+0, 9.08e-1, 1.78e+0, 1.08e+0, -4.63e-2, 1.52e+0, 5.35e-1]\n",
    "\n",
    "# Calculate and print the variance for both lists\n",
    "print(\"Variance of list1:\", calculate_variance(list1))\n",
    "print(\"Variance of list2:\", calculate_variance(list2))\n"
   ]
  },
  {
   "cell_type": "markdown",
   "metadata": {},
   "source": [
    "6. Create a list with at least 15 elements in it. Use list slicing to print the following:\n",
    "* The first 5 elements of the list\n",
    "* The last 5 elements of the list\n",
    "* The list reversed (hint, show the entire list with a stride of -1)\n",
    "* Every second element in the list\n",
    "* Every third element in the list (stride of 3)"
   ]
  },
  {
   "cell_type": "code",
   "execution_count": 27,
   "metadata": {},
   "outputs": [
    {
     "name": "stdout",
     "output_type": "stream",
     "text": [
      "First 5 elements: [1, 2, 3, 4, 5]\n",
      "Last 5 elements: [11, 12, 13, 14, 15]\n",
      "Reversed list: [15, 14, 13, 12, 11, 10, 9, 8, 7, 6, 5, 4, 3, 2, 1]\n",
      "Every second element: [1, 3, 5, 7, 9, 11, 13, 15]\n",
      "Every third element: [1, 4, 7, 10, 13]\n"
     ]
    }
   ],
   "source": [
    "# Create a list with at least 15 elements\n",
    "my_list = [1, 2, 3, 4, 5, 6, 7, 8, 9, 10, 11, 12, 13, 14, 15]\n",
    "\n",
    "# Print the first 5 elements of the list\n",
    "print(\"First 5 elements:\", my_list[:5])  # Slice from the start to the 5th element (index 0 to 4)\n",
    "\n",
    "# Print the last 5 elements of the list\n",
    "print(\"Last 5 elements:\", my_list[-5:])  # Slice the last 5 elements using a negative index\n",
    "\n",
    "# Print the list reversed\n",
    "print(\"Reversed list:\", my_list[::-1])  # Slice with a step of -1 to reverse the list\n",
    "\n",
    "# Print every second element in the list\n",
    "print(\"Every second element:\", my_list[::2])  # Slice with a step of 2 to get every second element\n",
    "\n",
    "# Print every third element in the list\n",
    "print(\"Every third element:\", my_list[::3])  # Slice with a step of 3 to get every third element\n"
   ]
  },
  {
   "cell_type": "markdown",
   "metadata": {},
   "source": [
    "7. Build a dictionary that contains the following information about this class (with appropriate names as keys):\n",
    "* The name\n",
    "* The course number\n",
    "* The semester/term in which you are taking this course\n",
    "* The number of credit hours this course counts for\n",
    "* A list of the course learning objectives\n",
    "\n",
    "The majority of this information can be found in the syllabus. Print the dictionary."
   ]
  },
  {
   "cell_type": "code",
   "execution_count": 28,
   "metadata": {},
   "outputs": [
    {
     "name": "stdout",
     "output_type": "stream",
     "text": [
      "Course Information: {'name': 'Web Mining and Applied NLP', 'course_number': '44620-80', 'semester': 'Fall 2024', 'credit_hours': 3, 'learning_objectives': ['Understand basic Python syntax and structure', 'Write simple Python programs', 'Use loops and conditionals effectively', 'Work with data structures such as lists and dictionaries', 'Implement functions and modular code design']}\n"
     ]
    }
   ],
   "source": [
    "# Create a dictionary to store class information\n",
    "course_info = {\n",
    "    \"name\": \"Web Mining and Applied NLP\",  # The name of the course\n",
    "    \"course_number\": \"44620-80\",  # The course number\n",
    "    \"semester\": \"Fall 2024\",  # The semester or term in which the course is taken\n",
    "    \"credit_hours\": 3,  # The number of credit hours this course counts for\n",
    "    \"learning_objectives\": [  # A list of course learning objectives\n",
    "        \"Understand basic Python syntax and structure\",\n",
    "        \"Write simple Python programs\",\n",
    "        \"Use loops and conditionals effectively\",\n",
    "        \"Work with data structures such as lists and dictionaries\",\n",
    "        \"Implement functions and modular code design\"\n",
    "    ]\n",
    "}\n",
    "\n",
    "# Print the dictionary\n",
    "print(\"Course Information:\", course_info)\n"
   ]
  },
  {
   "cell_type": "markdown",
   "metadata": {},
   "source": [
    "8.  Given the dictionary defined in the code cell below, print the list of level 3 spells the character has."
   ]
  },
  {
   "cell_type": "code",
   "execution_count": 30,
   "metadata": {},
   "outputs": [
    {
     "name": "stdout",
     "output_type": "stream",
     "text": [
      "Level 3 spells: ['Mass Healing Word', 'Nondetection', 'Revivify', 'Feign Death', 'Speak with Dead']\n"
     ]
    }
   ],
   "source": [
    "player_character = {'name': 'Kitab',\n",
    "                   'class': [('Cleric: Knowledge', 7)],\n",
    "                   'spells': {'cantrip': ['Guidance', 'Light', 'Thaumaturgy', 'Toll the Dead', 'Word of Radiance'],\n",
    "                             'level 1': ['Command', 'Detect Magic', 'Healing Word', 'Identify', 'Sleep'],\n",
    "                             'level 2': ['Augury', 'Calm Emotions', 'Command', 'Invisibility', 'Lesser Restoration'],\n",
    "                             'level 3': ['Mass Healing Word', 'Nondetection', 'Revivify', 'Feign Death', 'Speak with Dead'],\n",
    "                             'level 4': ['Banishment', 'Confusion']}\n",
    "                   }\n",
    "\n",
    "# Access and print the list of level 3 spells\n",
    "level_3_spells = player_character['spells']['level 3']\n",
    "print (\"Level 3 spells:\", level_3_spells)"
   ]
  },
  {
   "cell_type": "markdown",
   "metadata": {},
   "source": [
    "9. Write code to determine the number of unique elements in the list below.  You MUST use a set in finding your solution.  Print the number of unique values in the list with an appropriate label."
   ]
  },
  {
   "cell_type": "code",
   "execution_count": 32,
   "metadata": {},
   "outputs": [
    {
     "name": "stdout",
     "output_type": "stream",
     "text": [
      "Number of unique values: 12\n"
     ]
    }
   ],
   "source": [
    "values = [10, 11, 10, 8, 1, 12, 0, 1, 6, 5, 5, 13, 6, 15, 0, 0, 1, 1, 9, 7]\n",
    "\n",
    "# Given list\n",
    "values = [10, 11, 10, 8, 1, 12, 0, 1, 6, 5, 5, 13, 6, 15, 0, 0, 1, 1, 9, 7]\n",
    "\n",
    "# Convert the list to a set to keep only unique values\n",
    "unique_values = set(values)\n",
    "\n",
    "# Get the number of unique values by checking the length of the set\n",
    "num_unique_values = len(unique_values)\n",
    "\n",
    "# Print the result with an appropriate label\n",
    "print(\"Number of unique values:\", num_unique_values)\n"
   ]
  },
  {
   "cell_type": "markdown",
   "metadata": {},
   "source": []
  }
 ],
 "metadata": {
  "kernelspec": {
   "display_name": "Python 3",
   "language": "python",
   "name": "python3"
  },
  "language_info": {
   "codemirror_mode": {
    "name": "ipython",
    "version": 3
   },
   "file_extension": ".py",
   "mimetype": "text/x-python",
   "name": "python",
   "nbconvert_exporter": "python",
   "pygments_lexer": "ipython3",
   "version": "3.12.2"
  }
 },
 "nbformat": 4,
 "nbformat_minor": 4
}
