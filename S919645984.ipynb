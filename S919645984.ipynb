{
 "cells": [
  {
   "cell_type": "markdown",
   "metadata": {},
   "source": [
    "\n",
    "\n",
    "## Student Name: Sushanta Shrestha\n",
    "\n",
    "\n",
    "\n",
    "10. Create a new Jupyter Notebook (the name of the notebook should be your S number). Add a Markdown cell that contains your name. Add a Code cell and write Python that uses loops to draw the following pattern:\n",
    "\n",
    "```\n",
    "*      *\n",
    "**    **\n",
    "***  ***\n",
    "********\n",
    "```\n",
    "Make sure to add and submit both the new notebook and the changes to this notebook for this assignment."
   ]
  },
  {
   "cell_type": "code",
   "execution_count": 1,
   "metadata": {},
   "outputs": [
    {
     "name": "stdout",
     "output_type": "stream",
     "text": [
      "*      *\n",
      "**    **\n",
      "***  ***\n",
      "****\n"
     ]
    }
   ],
   "source": [
    "# Loop to print the pattern\n",
    "for i in range(1, 5):\n",
    "    # First part of the pattern with `i` asterisks\n",
    "    first_part = '*' * i\n",
    "    # Spaces in the middle based on row number\n",
    "    spaces = ' ' * (8 - 2 * i)\n",
    "    # Second part of the pattern with `i` asterisks, only if spaces are not zero\n",
    "    second_part = '*' * i if spaces else ''\n",
    "    # Print the row by combining all parts\n",
    "    print(first_part + spaces + second_part)\n",
    "\n"
   ]
  }
 ],
 "metadata": {
  "kernelspec": {
   "display_name": "Python 3",
   "language": "python",
   "name": "python3"
  },
  "language_info": {
   "codemirror_mode": {
    "name": "ipython",
    "version": 3
   },
   "file_extension": ".py",
   "mimetype": "text/x-python",
   "name": "python",
   "nbconvert_exporter": "python",
   "pygments_lexer": "ipython3",
   "version": "3.12.2"
  }
 },
 "nbformat": 4,
 "nbformat_minor": 2
}
